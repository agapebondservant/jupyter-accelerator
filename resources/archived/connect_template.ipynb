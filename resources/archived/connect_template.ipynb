{
 "cells": [
  {
   "cell_type": "code",
   "execution_count": null,
   "id": "77ca7132-a898-492d-ae3c-08e1b4c6438f",
   "metadata": {},
   "outputs": [],
   "source": [
    "###############################################################\n",
    "# Import the client_python_bindings module\n",
    "###############################################################\n",
    "# from bindings import bindings\n",
    "\n",
    "###############################################################\n",
    "# Check if any service bindings have been initialized\n",
    "###############################################################\n",
    "# bindings.check_service_bindings_exist()\n",
    "\n",
    "###############################################################\n",
    "# Get the ServiceBinding object associated with your service\n",
    "###############################################################\n",
    "# my_binding = bindings.find(SERVICEBINDING, \"bkstg-xxx-name-of-service-binding\")\n",
    "\n",
    "###############################################################\n",
    "# Get a list of property keys associated with this binding\n",
    "# Example: provider, username, host, port, uri, etc\n",
    "###############################################################\n",
    "# my_binding.list_keys()\n",
    "\n",
    "###############################################################\n",
    "# Connect to your service (using the keys listed above)\n",
    "###############################################################\n",
    "# Example: For Tanzu Postgres/Greenplum:\n",
    "# from bindings import bindings\n",
    "# import sqlalchemy, psycopg2\n",
    "# my_binding = bindings.find(SERVICEBINDING, \"bkstg-xxx-name-of-service-binding\")\n",
    "# my_binding_uri_property = my_binding.get(\"uri\")\n",
    "# conn = sqlalchemy.create_engine(my_binding_uri_property)\n",
    "# %load_ext sql\n",
    "# %sql $conn.url\n"
   ]
  }
 ],
 "metadata": {
  "kernelspec": {
   "display_name": "Python 3 (ipykernel)",
   "language": "python",
   "name": "python3"
  },
  "language_info": {
   "codemirror_mode": {
    "name": "ipython",
    "version": 3
   },
   "file_extension": ".py",
   "mimetype": "text/x-python",
   "name": "python",
   "nbconvert_exporter": "python",
   "pygments_lexer": "ipython3",
   "version": "3.11.6"
  }
 },
 "nbformat": 4,
 "nbformat_minor": 5
}
