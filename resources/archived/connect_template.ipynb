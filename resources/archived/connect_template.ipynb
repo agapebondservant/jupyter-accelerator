{
 "cells": [
  {
   "cell_type": "code",
   "execution_count": 1,
   "id": "e8d25cd8-9252-43b2-bffa-32821ddab394",
   "metadata": {},
   "outputs": [],
   "source": [
    "from bindings import bindings"
   ]
  },
  {
   "cell_type": "code",
   "execution_count": null,
   "id": "77ca7132-a898-492d-ae3c-08e1b4c6438f",
   "metadata": {},
   "outputs": [],
   "source": [
    "\n",
    "###############################################################\n",
    "# Check if any service bindings have been initialized\n",
    "###############################################################\n",
    "# bindings.check_service_bindings_exist()\n",
    "\n",
    "###############################################################\n",
    "# Get the ServiceBinding object associated with your service\n",
    "###############################################################\n",
    "# my_binding = SERVICEBINDING.find(b, \"bkstg-xxx-name-of-service-binding\")\n",
    "\n",
    "###############################################################\n",
    "# Get a list of property keys associated with this binding\n",
    "# Example: provider, username, host, port, uri, etc\n",
    "###############################################################\n",
    "# [f.name for f in os.scandir(my_binding._root) if not f.name.startswith('.')]\n",
    "\n",
    "###############################################################\n",
    "# Connect to your service (using the keys listed above)\n",
    "###############################################################\n",
    "# Example: For Tanzu Postgres/Greenplum:\n",
    "# import sqlalchemy\n",
    "# my_binding_uri_property = my_binding.get(URI_KEY_LISTED_ABOVE)\n",
    "# conn = sqlalchemy.create_engine(my_binding_uri_property)\n",
    "# %load_ext sql\n",
    "# %sql $conn.url\n"
   ]
  }
 ],
 "metadata": {
  "kernelspec": {
   "display_name": "Python 3 (ipykernel)",
   "language": "python",
   "name": "python3"
  },
  "language_info": {
   "codemirror_mode": {
    "name": "ipython",
    "version": 3
   },
   "file_extension": ".py",
   "mimetype": "text/x-python",
   "name": "python",
   "nbconvert_exporter": "python",
   "pygments_lexer": "ipython3",
   "version": "3.11.6"
  }
 },
 "nbformat": 4,
 "nbformat_minor": 5
}
